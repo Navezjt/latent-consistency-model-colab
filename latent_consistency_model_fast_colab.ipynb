{
  "cells": [
    {
      "cell_type": "markdown",
      "metadata": {
        "id": "view-in-github"
      },
      "source": [
        "[![Open In Colab](https://colab.research.google.com/assets/colab-badge.svg)](https://colab.research.google.com/github/camenduru/latent-consistency-model-colab/blob/main/latent_consistency_model_fast_colab.ipynb)"
      ]
    },
    {
      "cell_type": "code",
      "execution_count": null,
      "metadata": {
        "id": "VjYy0F2gZIPR"
      },
      "outputs": [],
      "source": [
        "!git clone -b dev https://github.com/camenduru/Real-Time-Latent-Consistency-Model-Text-To-Image-hf\n",
        "%cd /content/Real-Time-Latent-Consistency-Model-Text-To-Image-hf\n",
        "!pip install -q diffusers==0.21.4 transformers==4.34.1 gradio==3.50.2 fastapi==0.104.0 uvicorn==0.23.2 accelerate==0.24.0 compel==2.0.2 pyngrok\n",
        "\n",
        "import shlex\n",
        "import subprocess\n",
        "from pathlib import Path\n",
        "from typing import Union\n",
        "\n",
        "def gen_key(path: Union[str, Path]) -> None:\n",
        "    path = Path(path)\n",
        "    arg_string = f'ssh-keygen -t rsa -b 4096 -N \"\" -q -f {path.as_posix()}'\n",
        "    args = shlex.split(arg_string)\n",
        "    subprocess.run(args, check=True)\n",
        "    path.chmod(0o600)\n",
        "\n",
        "ssh_path = \"/content/id_rsa\"\n",
        "gen_key(ssh_path)"
      ]
    },
    {
      "cell_type": "code",
      "execution_count": null,
      "metadata": {},
      "outputs": [],
      "source": [
        "import threading\n",
        "def tunnel():\n",
        "  !ssh -R 80:127.0.0.1:7860 -o StrictHostKeyChecking=no -i /content/id_rsa remote.moe\n",
        "threading.Thread(target=tunnel, daemon=True).start()\n",
        "\n",
        "%cd /content/Real-Time-Latent-Consistency-Model-Text-To-Image-hf\n",
        "!LD_PRELOAD=/usr/lib64-nvidia/libcuda.so uvicorn app-txt2img:app --host 127.0.0.1 --port 7860"
      ]
    }
  ],
  "metadata": {
    "accelerator": "GPU",
    "colab": {
      "gpuType": "T4",
      "provenance": []
    },
    "kernelspec": {
      "display_name": "Python 3",
      "name": "python3"
    },
    "language_info": {
      "name": "python"
    }
  },
  "nbformat": 4,
  "nbformat_minor": 0
}
