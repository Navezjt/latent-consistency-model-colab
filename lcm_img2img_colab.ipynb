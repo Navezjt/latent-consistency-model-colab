{
  "cells": [
    {
      "cell_type": "markdown",
      "metadata": {
        "id": "view-in-github"
      },
      "source": [
        "[![Open In Colab](https://colab.research.google.com/assets/colab-badge.svg)](https://colab.research.google.com/github/camenduru/latent-consistency-model-colab/blob/main/lcm_img2img_colab.ipynb)"
      ]
    },
    {
      "cell_type": "code",
      "execution_count": null,
      "metadata": {},
      "outputs": [],
      "source": [
        "!pip install -q diffusers transformers accelerate peft gradio==3.50.2"
      ]
    },
    {
      "cell_type": "code",
      "execution_count": null,
      "metadata": {
        "id": "VjYy0F2gZIPR"
      },
      "outputs": [],
      "source": [
        "from diffusers import DiffusionPipeline\n",
        "import torch\n",
        "\n",
        "pipe = DiffusionPipeline.from_pretrained(\"SimianLuo/LCM_Dreamshaper_v7\", revision=\"fb9c5d167af11fd84454ae6493878b10bb63b067\", safety_checker=None, custom_pipeline=\"latent_consistency_img2img\")\n",
        "pipe.to(torch_device=\"cuda\", torch_dtype=torch.float16)\n",
        "pipe.set_progress_bar_config(disable=True)"
      ]
    },
    {
      "cell_type": "code",
      "execution_count": null,
      "metadata": {},
      "outputs": [],
      "source": [
        "import gradio as gr\n",
        "\n",
        "def generate(prompt, input_image):\n",
        "  image = pipe(prompt, image=input_image, num_inference_steps=4, guidance_scale=8.0, lcm_origin_steps=50, strength=0.8).images[0]\n",
        "  return image.resize((768, 768))\n",
        "\n",
        "with gr.Blocks(css=\"style.css\", title=f\"Realtime Latent Consistency Model\") as demo:\n",
        "    with gr.Row():\n",
        "      with gr.Column(scale=23):\n",
        "          prompt_box = gr.Textbox(show_label=False, value=\"a close-up picture of a fluffy cat standing in the rain\")\n",
        "\n",
        "    with gr.Row(variant=\"default\"):\n",
        "        input_image = gr.Image(\n",
        "            show_label=False,\n",
        "            type=\"pil\",\n",
        "            tool=\"color-sketch\",\n",
        "            source=\"canvas\",\n",
        "            height=742,\n",
        "            width=742,\n",
        "            brush_radius=20.0,\n",
        "        )\n",
        "        output_image = gr.Image(\n",
        "            show_label=False,\n",
        "            type=\"pil\",\n",
        "            interactive=False,\n",
        "            height=742,\n",
        "            width=742,\n",
        "            elem_id=\"output_image\",\n",
        "        )\n",
        "\n",
        "    input_image.change(fn=generate, inputs=[prompt_box, input_image], outputs=[output_image], show_progress=False)\n",
        "\n",
        "demo.launch(inline=False, share=True)"
      ]
    }
  ],
  "metadata": {
    "accelerator": "GPU",
    "colab": {
      "gpuType": "T4",
      "provenance": []
    },
    "kernelspec": {
      "display_name": "Python 3",
      "name": "python3"
    },
    "language_info": {
      "name": "python"
    }
  },
  "nbformat": 4,
  "nbformat_minor": 0
}
