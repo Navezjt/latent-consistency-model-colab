{
  "cells": [
    {
      "cell_type": "markdown",
      "metadata": {
        "id": "view-in-github"
      },
      "source": [
        "[![Open In Colab](https://colab.research.google.com/assets/colab-badge.svg)](https://colab.research.google.com/github/camenduru/latent-consistency-model-colab/blob/main/wip/lcm_controlnet_canny_draw_colab.ipynb)"
      ]
    },
    {
      "cell_type": "code",
      "execution_count": null,
      "metadata": {
        "id": "VjYy0F2gZIPR"
      },
      "outputs": [],
      "source": [
        "!pip install git+https://github.com/huggingface/diffusers -U\n",
        "!pip install -q controlnet-aux transformers accelerate peft gradio==3.50.2\n",
        "!pip install -q https://download.pytorch.org/whl/cu118/xformers-0.0.22.post4%2Bcu118-cp310-cp310-manylinux2014_x86_64.whl"
      ]
    },
    {
      "cell_type": "code",
      "execution_count": null,
      "metadata": {},
      "outputs": [],
      "source": [
        "from diffusers import StableDiffusionControlNetPipeline, UNet2DConditionModel, ControlNetModel, LCMScheduler\n",
        "import torch\n",
        "\n",
        "controlnet = ControlNetModel.from_pretrained(\"lllyasviel/control_v11p_sd15_canny\", torch_dtype=torch.float16)\n",
        "pipe = StableDiffusionControlNetPipeline.from_pretrained(\"ckpt/anything-v3-vae-swapped\", controlnet=controlnet, torch_dtype=torch.float16, safety_checker=None,).to(\"cuda\")\n",
        "pipe.scheduler = LCMScheduler.from_config(pipe.scheduler.config)\n",
        "pipe.load_lora_weights(\"latent-consistency/lcm-lora-sdv1-5\")\n",
        "# pipe.fuse_lora()\n",
        "# https://civitai.com/models/16014/anime-lineart-manga-like-style"
      ]
    },
    {
      "cell_type": "code",
      "execution_count": null,
      "metadata": {},
      "outputs": [],
      "source": [
        "import cv2\n",
        "import numpy as np\n",
        "from PIL import Image\n",
        "import gradio as gr\n",
        "\n",
        "def generate(prompt, input_image, controlnet_conditioning_scale):\n",
        "    input_image = np.array(input_image)\n",
        "    input_image = cv2.Canny(input_image, 100, 200)\n",
        "    input_image = input_image[:, :, None]\n",
        "    input_image = np.concatenate([input_image, input_image, input_image], axis=2)\n",
        "    canny_image = Image.fromarray(input_image)\n",
        "    image = pipe(prompt, image=canny_image, num_inference_steps=4, guidance_scale=1.0, controlnet_conditioning_scale=controlnet_conditioning_scale, cross_attention_kwargs={\"scale\": 0.5}).images[0]\n",
        "    return image.resize((512, 768)), canny_image.resize((512, 768))\n",
        "\n",
        "with gr.Blocks(title=f\"Realtime Latent Consistency Model\") as demo:\n",
        "    with gr.Row():\n",
        "      with gr.Column(scale=23):\n",
        "          textbox = gr.Textbox(show_label=False, value=\"1girl red dress\")\n",
        "          controlnet_conditioning_scale = gr.Slider(minimum=0, maximum=1, value=0.5, label=\"controlnet_conditioning_scale\")\n",
        "\n",
        "    with gr.Row(variant=\"default\"):\n",
        "        input_image = gr.Image(\n",
        "            show_label=False,\n",
        "            type=\"pil\",\n",
        "            tool=\"color-sketch\",\n",
        "            source=\"upload\",\n",
        "            width=512,\n",
        "            height=768,\n",
        "            brush_radius=10.0,\n",
        "            interactive=True,\n",
        "        )\n",
        "        canny_image = gr.Image(\n",
        "            show_label=False,\n",
        "            type=\"pil\",\n",
        "            tool=\"color-sketch\",\n",
        "            source=\"upload\",\n",
        "            interactive=True,\n",
        "            width=512,\n",
        "            height=768,\n",
        "        )\n",
        "        output_image = gr.Image(\n",
        "            show_label=False,\n",
        "            type=\"pil\",\n",
        "            tool=\"color-sketch\",\n",
        "            source=\"upload\",\n",
        "            interactive=True,\n",
        "            width=512,\n",
        "            height=768,\n",
        "        )\n",
        "\n",
        "    textbox.change(fn=generate, inputs=[textbox, input_image, controlnet_conditioning_scale], outputs=[output_image, canny_image], show_progress=False)\n",
        "    input_image.change(fn=generate, inputs=[textbox, input_image, controlnet_conditioning_scale], outputs=[output_image, canny_image], show_progress=False)\n",
        "    controlnet_conditioning_scale.change(fn=generate, inputs=[textbox, input_image, controlnet_conditioning_scale], outputs=[output_image, canny_image], show_progress=False)\n",
        "\n",
        "demo.launch(inline=False, share=True, debug=True)"
      ]
    }
  ],
  "metadata": {
    "accelerator": "GPU",
    "colab": {
      "gpuType": "T4",
      "provenance": []
    },
    "kernelspec": {
      "display_name": "Python 3",
      "name": "python3"
    },
    "language_info": {
      "name": "python"
    }
  },
  "nbformat": 4,
  "nbformat_minor": 0
}
