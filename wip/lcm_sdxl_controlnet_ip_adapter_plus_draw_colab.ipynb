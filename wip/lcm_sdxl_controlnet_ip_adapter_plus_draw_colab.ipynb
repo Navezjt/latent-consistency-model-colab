{
  "cells": [
    {
      "cell_type": "markdown",
      "metadata": {
        "id": "view-in-github"
      },
      "source": [
        "[![Open In Colab](https://colab.research.google.com/assets/colab-badge.svg)](https://colab.research.google.com/github/camenduru/latent-consistency-model-colab/blob/main/wip/lcm_sdxl_controlnet_ip_adapter_plus_draw_colab.ipynb)"
      ]
    },
    {
      "cell_type": "code",
      "execution_count": null,
      "metadata": {
        "id": "VjYy0F2gZIPR"
      },
      "outputs": [],
      "source": [
        "!pip install git+https://github.com/huggingface/diffusers -U\n",
        "!pip install -q controlnet-aux transformers accelerate peft gradio==3.50.2\n",
        "!pip install -q https://download.pytorch.org/whl/cu121/xformers-0.0.22.post7-cp310-cp310-manylinux2014_x86_64.whl\n",
        "!pip install -q git+https://github.com/tencent-ailab/IP-Adapter einops\n",
        "\n",
        "!mkdir /content/models_xl\n",
        "!wget https://huggingface.co/h94/IP-Adapter/resolve/main/sdxl_models/ip-adapter-plus_sdxl_vit-h.safetensors?download=true -O /content/models_xl/ip-adapter-plus_sdxl_vit-h.safetensors\n",
        "!wget https://huggingface.co/h94/IP-Adapter/resolve/main/sdxl_models/ip-adapter_sdxl.safetensors?download=true -O /content/models_xl/ip-adapter_sdxl.safetensors\n",
        "\n",
        "!mkdir /content/image_encoder_xl\n",
        "!wget https://huggingface.co/h94/IP-Adapter/raw/main/sdxl_models/image_encoder/config.json -O /content/image_encoder_xl/config.json\n",
        "!wget https://huggingface.co/h94/IP-Adapter/resolve/main/sdxl_models/image_encoder/model.safetensors?download=true -O /content/image_encoder_xl/model.safetensors\n",
        "\n",
        "import torch\n",
        "from diffusers import StableDiffusionXLPipeline, UNet2DConditionModel, LCMScheduler\n",
        "from PIL import Image\n",
        "from ip_adapter import IPAdapterXL\n",
        "\n",
        "unet = UNet2DConditionModel.from_pretrained(\"latent-consistency/lcm-sdxl\", torch_dtype=torch.float16, variant=\"fp16\")\n",
        "pipe = StableDiffusionXLPipeline.from_pretrained(\"stabilityai/stable-diffusion-xl-base-1.0\", unet=unet, torch_dtype=torch.float16, variant=\"fp16\")\n",
        "pipe.scheduler = LCMScheduler.from_config(pipe.scheduler.config)\n",
        "ip_model = IPAdapterXL(pipe, \"/content/image_encoder_xl\", \"/content/models_xl/ip-adapter_sdxl.safetensors\", \"cuda\")"
      ]
    },
    {
      "cell_type": "code",
      "execution_count": null,
      "metadata": {},
      "outputs": [],
      "source": [
        "from diffusers.utils import load_image, make_image_grid\n",
        "image = load_image(\"https://image.civitai.com/xG1nkqKTMzGDvpLrqFT7WA/fab28432-7d00-43c4-fbd6-ac5989ebf000/width=512/326152.jpeg\")\n",
        "image.resize((512, 768))\n",
        "\n",
        "images = ip_model.generate(width=512, height=768, pil_image=image, num_samples=1, num_inference_steps=4, guidance_scale=1.0, prompt=\"girl wearing a red dress\", scale=0.5)\n",
        "make_image_grid(images, rows=1, cols=1)"
      ]
    },
    {
      "cell_type": "code",
      "execution_count": null,
      "metadata": {},
      "outputs": [],
      "source": [
        "image = pipe(\"one girl wearing a red dress\", num_inference_steps=4, guidance_scale=8.0).images[0]\n",
        "image"
      ]
    }
  ],
  "metadata": {
    "accelerator": "GPU",
    "colab": {
      "gpuType": "T4",
      "provenance": []
    },
    "kernelspec": {
      "display_name": "Python 3",
      "name": "python3"
    },
    "language_info": {
      "name": "python"
    }
  },
  "nbformat": 4,
  "nbformat_minor": 0
}
