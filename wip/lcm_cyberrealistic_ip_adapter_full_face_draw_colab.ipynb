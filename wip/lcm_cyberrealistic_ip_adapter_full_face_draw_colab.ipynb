{
  "cells": [
    {
      "cell_type": "markdown",
      "metadata": {
        "id": "view-in-github"
      },
      "source": [
        "[![Open In Colab](https://colab.research.google.com/assets/colab-badge.svg)](https://colab.research.google.com/github/camenduru/latent-consistency-model-colab/blob/main/wip/lcm_cyberrealistic_ip_adapter_full_face_draw_colab.ipynb)"
      ]
    },
    {
      "cell_type": "code",
      "execution_count": null,
      "metadata": {
        "id": "VjYy0F2gZIPR"
      },
      "outputs": [],
      "source": [
        "!pip install git+https://github.com/huggingface/diffusers -U\n",
        "!pip install -q controlnet-aux transformers accelerate peft gradio==3.50.2\n",
        "!pip install -q https://download.pytorch.org/whl/cu121/xformers-0.0.22.post7-cp310-cp310-manylinux2014_x86_64.whl\n",
        "!pip install -q git+https://github.com/tencent-ailab/IP-Adapter einops\n",
        "\n",
        "!mkdir /content/image_encoder\n",
        "!wget https://huggingface.co/h94/IP-Adapter/raw/main/models/image_encoder/config.json -O /content/image_encoder/config.json\n",
        "!wget https://huggingface.co/h94/IP-Adapter/resolve/main/models/image_encoder/model.safetensors?download=true -O /content/image_encoder/model.safetensors\n",
        "\n",
        "!mkdir /content/models\n",
        "!wget https://huggingface.co/h94/IP-Adapter/resolve/main/models/ip-adapter-full-face_sd15.safetensors?download=true -O /content/models/ip-adapter-full-face_sd15.safetensors\n",
        "\n",
        "import torch\n",
        "from diffusers import StableDiffusionPipeline, LCMScheduler\n",
        "from PIL import Image\n",
        "from ip_adapter import IPAdapterFull\n",
        "\n",
        "pipe = StableDiffusionPipeline.from_pretrained(\"uf/cyberrealistic_v3.3\", torch_dtype=torch.float16, feature_extractor=None, safety_checker=None)\n",
        "pipe.scheduler = LCMScheduler.from_config(pipe.scheduler.config)\n",
        "pipe.load_lora_weights(\"latent-consistency/lcm-lora-sdv1-5\")\n",
        "ip_model = IPAdapterFull(pipe, \"/content/image_encoder\", \"/content/models/ip-adapter-full-face_sd15.safetensors\", \"cuda\", num_tokens=257)"
      ]
    },
    {
      "cell_type": "code",
      "execution_count": null,
      "metadata": {},
      "outputs": [],
      "source": [
        "from diffusers.utils import load_image, make_image_grid\n",
        "image = load_image(\"https://raw.githubusercontent.com/tencent-ailab/IP-Adapter/main/assets/images/ai_face2.png\")\n",
        "image.resize((256, 256))\n",
        "\n",
        "images = ip_model.generate(width=512, height=768, pil_image=image, num_samples=4, num_inference_steps=4, guidance_scale=1.0, prompt=\"1girl red dress\", scale=0.6)\n",
        "make_image_grid(images, rows=1, cols=4)"
      ]
    }
  ],
  "metadata": {
    "accelerator": "GPU",
    "colab": {
      "gpuType": "T4",
      "provenance": []
    },
    "kernelspec": {
      "display_name": "Python 3",
      "name": "python3"
    },
    "language_info": {
      "name": "python"
    }
  },
  "nbformat": 4,
  "nbformat_minor": 0
}
