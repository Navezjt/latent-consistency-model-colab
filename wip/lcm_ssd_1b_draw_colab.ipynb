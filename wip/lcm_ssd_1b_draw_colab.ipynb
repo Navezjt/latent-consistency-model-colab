{
  "cells": [
    {
      "cell_type": "markdown",
      "metadata": {
        "id": "view-in-github"
      },
      "source": [
        "[![Open In Colab](https://colab.research.google.com/assets/colab-badge.svg)](https://colab.research.google.com/github/camenduru/latent-consistency-model-colab/blob/main/wip/lcm_ssd_1b_draw_colab.ipynb)"
      ]
    },
    {
      "cell_type": "code",
      "execution_count": null,
      "metadata": {
        "id": "VjYy0F2gZIPR"
      },
      "outputs": [],
      "source": [
        "!pip install git+https://github.com/huggingface/diffusers -U\n",
        "!pip install -q transformers accelerate peft gradio==3.50.2\n",
        "!pip install -q https://download.pytorch.org/whl/cu118/xformers-0.0.22.post4%2Bcu118-cp310-cp310-manylinux2014_x86_64.whl"
      ]
    },
    {
      "cell_type": "code",
      "execution_count": null,
      "metadata": {},
      "outputs": [],
      "source": [
        "from diffusers import UNet2DConditionModel, DiffusionPipeline, LCMScheduler\n",
        "import torch\n",
        "\n",
        "unet = UNet2DConditionModel.from_pretrained(\"latent-consistency/lcm-ssd-1b\", torch_dtype=torch.float16, variant=\"fp16\")\n",
        "pipe = DiffusionPipeline.from_pretrained(\"segmind/SSD-1B\", unet=unet, torch_dtype=torch.float16, variant=\"fp16\").to(\"cuda\")\n",
        "pipe.scheduler = LCMScheduler.from_config(pipe.scheduler.config)"
      ]
    },
    {
      "cell_type": "code",
      "execution_count": null,
      "metadata": {},
      "outputs": [],
      "source": [
        "image = pipe(\"cute girl with flower bouquet drawing\", num_inference_steps=4, guidance_scale=1.0).images[0]\n",
        "image"
      ]
    }
  ],
  "metadata": {
    "accelerator": "GPU",
    "colab": {
      "gpuType": "T4",
      "provenance": []
    },
    "kernelspec": {
      "display_name": "Python 3",
      "name": "python3"
    },
    "language_info": {
      "name": "python"
    }
  },
  "nbformat": 4,
  "nbformat_minor": 0
}
