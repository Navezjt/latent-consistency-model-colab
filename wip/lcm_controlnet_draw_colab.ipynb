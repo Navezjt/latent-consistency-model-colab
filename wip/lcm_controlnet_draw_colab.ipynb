{
  "cells": [
    {
      "cell_type": "markdown",
      "metadata": {
        "id": "view-in-github"
      },
      "source": [
        "[![Open In Colab](https://colab.research.google.com/assets/colab-badge.svg)](https://colab.research.google.com/github/camenduru/latent-consistency-model-colab/blob/main/wip/lcm_controlnet_draw_colab.ipynb)"
      ]
    },
    {
      "cell_type": "code",
      "execution_count": null,
      "metadata": {
        "id": "VjYy0F2gZIPR"
      },
      "outputs": [],
      "source": [
        "!pip install git+https://github.com/huggingface/diffusers -U\n",
        "!pip install -q transformers accelerate peft gradio==3.50.2\n",
        "!pip install -q https://download.pytorch.org/whl/cu121/xformers-0.0.22.post7-cp310-cp310-manylinux2014_x86_64.whl"
      ]
    },
    {
      "cell_type": "code",
      "execution_count": null,
      "metadata": {},
      "outputs": [],
      "source": [
        "import torch\n",
        "import cv2\n",
        "import numpy as np\n",
        "from PIL import Image\n",
        "\n",
        "from diffusers import StableDiffusionControlNetPipeline, ControlNetModel, LCMScheduler\n",
        "from diffusers.utils import load_image, make_image_grid\n",
        "\n",
        "controlnet = ControlNetModel.from_pretrained(\"lllyasviel/sd-controlnet-canny\", torch_dtype=torch.float16)\n",
        "pipe = StableDiffusionControlNetPipeline.from_pretrained(\"SimianLuo/LCM_Dreamshaper_v7\", controlnet=controlnet, torch_dtype=torch.float16, safety_checker=None,).to(\"cuda\")\n",
        "pipe.scheduler = LCMScheduler.from_config(pipe.scheduler.config)"
      ]
    },
    {
      "cell_type": "code",
      "execution_count": null,
      "metadata": {},
      "outputs": [],
      "source": [
        "import gradio as gr\n",
        "\n",
        "def generate(prompt, input_image):\n",
        "    input_image = np.array(input_image)\n",
        "    input_image = cv2.Canny(input_image, 100, 200)\n",
        "    input_image = input_image[:, :, None]\n",
        "    input_image = np.concatenate([input_image, input_image, input_image], axis=2)\n",
        "    canny_image = Image.fromarray(input_image)\n",
        "    image = pipe(prompt, image=canny_image, num_inference_steps=4, guidance_scale=8.0).images[0]\n",
        "    # image = pipe(prompt, image=canny_image, num_inference_steps=4, guidance_scale=8.0, lcm_origin_steps=50, strength=0.8).images[0]\n",
        "    return image.resize((768, 768))\n",
        "\n",
        "with gr.Blocks(title=f\"Realtime Latent Consistency Model\") as demo:\n",
        "    with gr.Row():\n",
        "      with gr.Column(scale=23):\n",
        "          textbox = gr.Textbox(show_label=False, value=\"a close-up picture of a fluffy cat\")\n",
        "\n",
        "    with gr.Row(variant=\"default\"):\n",
        "        input_image = gr.Image(\n",
        "            show_label=False,\n",
        "            type=\"pil\",\n",
        "            tool=\"color-sketch\",\n",
        "            source=\"canvas\",\n",
        "            height=742,\n",
        "            width=742,\n",
        "            brush_radius=10.0,\n",
        "        )\n",
        "        output_image = gr.Image(\n",
        "            show_label=False,\n",
        "            type=\"pil\",\n",
        "            interactive=False,\n",
        "            height=742,\n",
        "            width=742,\n",
        "            elem_id=\"output_image\",\n",
        "        )\n",
        "\n",
        "    textbox.change(fn=generate, inputs=[textbox, input_image], outputs=[output_image], show_progress=False)\n",
        "    input_image.change(fn=generate, inputs=[textbox, input_image], outputs=[output_image], show_progress=False)\n",
        "\n",
        "demo.launch(inline=False, share=True, debug=True)"
      ]
    }
  ],
  "metadata": {
    "accelerator": "GPU",
    "colab": {
      "gpuType": "T4",
      "provenance": []
    },
    "kernelspec": {
      "display_name": "Python 3",
      "name": "python3"
    },
    "language_info": {
      "name": "python"
    }
  },
  "nbformat": 4,
  "nbformat_minor": 0
}
