{
  "cells": [
    {
      "cell_type": "markdown",
      "metadata": {
        "id": "view-in-github"
      },
      "source": [
        "[![Open In Colab](https://colab.research.google.com/assets/colab-badge.svg)](https://colab.research.google.com/github/camenduru/latent-consistency-model-colab/blob/main/wip/lcm_sdxl_controlnet_openpose_draw_colab.ipynb)"
      ]
    },
    {
      "cell_type": "code",
      "execution_count": null,
      "metadata": {
        "id": "VjYy0F2gZIPR"
      },
      "outputs": [],
      "source": [
        "!pip install git+https://github.com/huggingface/diffusers -U\n",
        "!pip install -q controlnet-aux transformers accelerate peft gradio==3.50.2\n",
        "!pip install -q https://download.pytorch.org/whl/cu118/xformers-0.0.22.post4%2Bcu118-cp310-cp310-manylinux2014_x86_64.whl"
      ]
    },
    {
      "cell_type": "code",
      "execution_count": null,
      "metadata": {},
      "outputs": [],
      "source": [
        "from diffusers import StableDiffusionXLControlNetPipeline, UNet2DConditionModel, ControlNetModel, LCMScheduler\n",
        "import torch\n",
        "\n",
        "controlnet = ControlNetModel.from_pretrained(\"thibaud/controlnet-openpose-sdxl-1.0\", torch_dtype=torch.float16)\n",
        "unet = UNet2DConditionModel.from_pretrained(\"latent-consistency/lcm-sdxl\", torch_dtype=torch.float16, variant=\"fp16\",)\n",
        "pipe = StableDiffusionXLControlNetPipeline.from_pretrained(\"stabilityai/stable-diffusion-xl-base-1.0\", unet=unet, controlnet=controlnet, torch_dtype=torch.float16, safety_checker=None,).to(\"cuda\")\n",
        "pipe.scheduler = LCMScheduler.from_config(pipe.scheduler.config)"
      ]
    },
    {
      "cell_type": "code",
      "execution_count": null,
      "metadata": {},
      "outputs": [],
      "source": [
        "from controlnet_aux import OpenposeDetector\n",
        "from diffusers.utils import load_image, make_image_grid\n",
        "\n",
        "openpose = OpenposeDetector.from_pretrained(\"lllyasviel/ControlNet\")\n",
        "original_image = load_image(\"https://huggingface.co/datasets/huggingface/documentation-images/resolve/main/diffusers/person.png\")\n",
        "openpose_image = openpose(original_image)"
      ]
    },
    {
      "cell_type": "code",
      "execution_count": null,
      "metadata": {},
      "outputs": [],
      "source": [
        "image = pipe(f\"cute girl\", image=openpose_image, num_inference_steps=4).images[0]\n",
        "make_image_grid([original_image, openpose_image, image], rows=1, cols=3)"
      ]
    }
  ],
  "metadata": {
    "accelerator": "GPU",
    "colab": {
      "gpuType": "T4",
      "provenance": []
    },
    "kernelspec": {
      "display_name": "Python 3",
      "name": "python3"
    },
    "language_info": {
      "name": "python"
    }
  },
  "nbformat": 4,
  "nbformat_minor": 0
}
