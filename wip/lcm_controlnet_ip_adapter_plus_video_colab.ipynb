{
  "cells": [
    {
      "cell_type": "markdown",
      "metadata": {
        "id": "view-in-github"
      },
      "source": [
        "[![Open In Colab](https://colab.research.google.com/assets/colab-badge.svg)](https://colab.research.google.com/github/camenduru/latent-consistency-model-colab/blob/main/wip/lcm_controlnet_ip_adapter_plus_video_colab.ipynb)"
      ]
    },
    {
      "cell_type": "code",
      "execution_count": null,
      "metadata": {
        "id": "VjYy0F2gZIPR"
      },
      "outputs": [],
      "source": [
        "!pip install git+https://github.com/huggingface/diffusers -U\n",
        "!pip install -q controlnet-aux transformers accelerate peft gradio==3.50.2\n",
        "!pip install -q https://download.pytorch.org/whl/cu121/xformers-0.0.22.post7-cp310-cp310-manylinux2014_x86_64.whl\n",
        "!pip install -q git+https://github.com/tencent-ailab/IP-Adapter einops\n",
        "\n",
        "!mkdir /content/image_encoder\n",
        "!wget https://huggingface.co/h94/IP-Adapter/raw/main/models/image_encoder/config.json -O /content/image_encoder/config.json\n",
        "!wget https://huggingface.co/h94/IP-Adapter/resolve/main/models/image_encoder/model.safetensors?download=true -O /content/image_encoder/model.safetensors\n",
        "\n",
        "!mkdir /content/models\n",
        "!wget https://huggingface.co/h94/IP-Adapter/resolve/main/models/ip-adapter-plus_sd15.safetensors?download=true -O /content/models/ip-adapter-plus_sd15.safetensors\n",
        "\n",
        "import torch, cv2, os\n",
        "from diffusers import StableDiffusionPipeline, LCMScheduler\n",
        "from PIL import Image\n",
        "from ip_adapter import IPAdapterPlus\n",
        "\n",
        "pipe = StableDiffusionPipeline.from_pretrained(\"ckpt/anything-v3-vae-swapped\", torch_dtype=torch.float16, feature_extractor=None, safety_checker=None)\n",
        "pipe.scheduler = LCMScheduler.from_config(pipe.scheduler.config)\n",
        "pipe.load_lora_weights(\"latent-consistency/lcm-lora-sdv1-5\")\n",
        "pipe.set_progress_bar_config(disable=True)\n",
        "ip_model = IPAdapterPlus(pipe, \"/content/image_encoder\", \"/content/models/ip-adapter-plus_sd15.safetensors\", \"cuda\", num_tokens=16)"
      ]
    },
    {
      "cell_type": "code",
      "execution_count": null,
      "metadata": {},
      "outputs": [],
      "source": [
        "def separate_frames_from_video(video_path, output_folder, prefix='in', extension='.jpg'):\n",
        "    video_capture = cv2.VideoCapture(video_path)\n",
        "    fps = int(video_capture.get(cv2.CAP_PROP_FPS))\n",
        "    frame_count = int(video_capture.get(cv2.CAP_PROP_FRAME_COUNT))\n",
        "    os.makedirs(output_folder, exist_ok=True)\n",
        "    for frame_number in range(frame_count):\n",
        "        ret, frame = video_capture.read()\n",
        "        if not ret:\n",
        "            break\n",
        "        output_path = os.path.join(output_folder, f'{prefix}{frame_number}{extension}')\n",
        "        cv2.imwrite(output_path, frame)\n",
        "    video_capture.release()\n",
        "\n",
        "def apply_canny_edge_detection(image_path, output_path, threshold1=0, threshold2=100):\n",
        "    img = cv2.imread(image_path, cv2.IMREAD_GRAYSCALE)\n",
        "    edges = cv2.Canny(img, threshold1, threshold2)\n",
        "    cv2.imwrite(output_path, edges)\n",
        "\n",
        "def get_ordered_images(folder_path, prefix='in', extension='.jpg'):\n",
        "    files = os.listdir(folder_path)\n",
        "    image_files = [file for file in files if file.startswith(prefix) and file.endswith(extension)]\n",
        "    image_files.sort(key=lambda x: int(x[len(prefix):-len(extension)]) if x[len(prefix):-len(extension)].isdigit() else float('inf'))\n",
        "    return image_files\n",
        "\n",
        "def generate(folder_path, prefix='in', extension='.jpg'):\n",
        "    image_files = get_ordered_images(folder_path, prefix, extension)\n",
        "    for image_file in image_files:\n",
        "        ip_image = Image.open(f'/content/in/{image_file}')\n",
        "        image = ip_model.generate(width=640, height=360, pil_image=ip_image, num_samples=1, num_inference_steps=4, guidance_scale=1.0, prompt=\"1girl\", scale=0.6)[0]\n",
        "        image.save(f'/content/out/{image_file}')\n",
        "\n",
        "def generate_video_from_images(folder_path, output_video_path, prefix='in', extension='.jpg', fps=30):\n",
        "    image_files = [file for file in os.listdir(folder_path) if file.startswith(prefix) and file.endswith(extension)]\n",
        "    image_files.sort(key=lambda x: int(x[len(prefix):-len(extension)]) if x[len(prefix):-len(extension)].isdigit() else float('inf'))\n",
        "    first_image_path = os.path.join(folder_path, image_files[0])\n",
        "    first_image = cv2.imread(first_image_path)\n",
        "    height, width, _ = first_image.shape\n",
        "    fourcc = cv2.VideoWriter_fourcc(*'mp4v')\n",
        "    video_writer = cv2.VideoWriter(output_video_path, fourcc, fps, (width, height))\n",
        "    for image_file in image_files:\n",
        "        image_path = os.path.join(folder_path, image_file)\n",
        "        frame = cv2.imread(image_path)\n",
        "        video_writer.write(frame)\n",
        "    video_writer.release()\n",
        "\n",
        "!mkdir /content/in /content/out\n",
        "separate_frames_from_video('/content/video.mp4', '/content/in')\n",
        "generate('/content/in')\n",
        "generate_video_from_images('/content/out', '/content/output_video.mp4')"
      ]
    }
  ],
  "metadata": {
    "accelerator": "GPU",
    "colab": {
      "gpuType": "T4",
      "provenance": []
    },
    "kernelspec": {
      "display_name": "Python 3",
      "name": "python3"
    },
    "language_info": {
      "name": "python"
    }
  },
  "nbformat": 4,
  "nbformat_minor": 0
}
